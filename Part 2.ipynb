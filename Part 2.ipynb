{
 "cells": [
  {
   "cell_type": "markdown",
   "metadata": {},
   "source": [
    "# PART 2"
   ]
  },
  {
   "cell_type": "markdown",
   "metadata": {},
   "source": [
    "# Necessary Imports"
   ]
  },
  {
   "cell_type": "code",
   "execution_count": 73,
   "metadata": {},
   "outputs": [],
   "source": [
    "import numpy as np\n",
    "import pandas as pd\n",
    "import seaborn as sns\n",
    "import matplotlib.pyplot as plt\n",
    "import pprint\n",
    "import time\n",
    "%matplotlib inline\n",
    "plt.style.use('ggplot')\n",
    "\n",
    "from sklearn.pipeline import make_pipeline\n",
    "from sklearn.preprocessing import StandardScaler\n",
    "from sklearn.svm import SVC\n",
    "from sklearn import svm\n",
    "from sklearn.metrics import accuracy_score, confusion_matrix, classification_report, ConfusionMatrixDisplay\n",
    "from sklearn.experimental import enable_halving_search_cv\n",
    "from sklearn.model_selection import GridSearchCV, HalvingGridSearchCV"
   ]
  },
  {
   "cell_type": "code",
   "execution_count": 74,
   "metadata": {},
   "outputs": [],
   "source": [
    "def plot_confusion_matrix(conf_mat, labels):\n",
    "    classes = list(labels)\n",
    "    df_cm = pd.DataFrame(conf_mat,classes,classes)\n",
    "    plt.figure(figsize=(10,7))\n",
    "    sns.set(font_scale=1.4)\n",
    "    sns.heatmap(df_cm, annot=True,annot_kws={\"size\": 16}, fmt='g')\n",
    "    plt.show()"
   ]
  },
  {
   "cell_type": "markdown",
   "metadata": {},
   "source": [
    "# Constants"
   ]
  },
  {
   "cell_type": "code",
   "execution_count": 75,
   "metadata": {},
   "outputs": [],
   "source": [
    "CROSS_VALIDATION_SETS = 5\n",
    "MAX_K = 10\n",
    "RANDOM_STATE = 69\n",
    "LABEL_NAMES = ['English', 'Urdu', 'Mixed']"
   ]
  },
  {
   "cell_type": "markdown",
   "metadata": {},
   "source": [
    "# Loading Dataset and Splitting"
   ]
  },
  {
   "cell_type": "code",
   "execution_count": 76,
   "metadata": {},
   "outputs": [],
   "source": [
    "data = pd.read_csv('dataset.csv')\n",
    "\n",
    "train = data.sample(frac = 0.8, random_state = RANDOM_STATE)\n",
    "test = data.drop(train.index)\n",
    "\n",
    "train = train.to_numpy()\n",
    "test = test.to_numpy()\n",
    "\n",
    "train_x = train[:, 1:-1]\n",
    "train_y = train[:, -1]\n",
    "\n",
    "test_x = test[:, 1:-1]\n",
    "test_y = test[:, -1]"
   ]
  },
  {
   "cell_type": "code",
   "execution_count": 77,
   "metadata": {},
   "outputs": [
    {
     "name": "stdout",
     "output_type": "stream",
     "text": [
      "train_x shape: (13904, 13)\n",
      "train_y shape: (13904,)\n"
     ]
    }
   ],
   "source": [
    "print(\"train_x shape:\", train_x.shape)\n",
    "print(\"train_y shape:\", train_y.shape)"
   ]
  },
  {
   "cell_type": "code",
   "execution_count": 78,
   "metadata": {},
   "outputs": [
    {
     "name": "stdout",
     "output_type": "stream",
     "text": [
      "test_x shape: (3476, 13)\n",
      "test_y shape: (3476,)\n"
     ]
    }
   ],
   "source": [
    "print(\"test_x shape:\", test_x.shape)\n",
    "print(\"test_y shape:\", test_y.shape)"
   ]
  },
  {
   "cell_type": "markdown",
   "metadata": {},
   "source": [
    "# Exhaustively Finding Best Parameters"
   ]
  },
  {
   "cell_type": "markdown",
   "metadata": {},
   "source": [
    "Setting Parameters "
   ]
  },
  {
   "cell_type": "code",
   "execution_count": 79,
   "metadata": {},
   "outputs": [],
   "source": [
    "C = [1, 10, 100]\n",
    "gamma = [0.01, 0.1, 1]\n",
    "degree = [3, 4, 5]\n",
    "\n",
    "param_grid = [\n",
    "   {'kernel': ['rbf', 'sigmoid'], 'C': C, 'gamma': gamma},\n",
    "   {'kernel': ['poly'], 'C': C, 'gamma': gamma, 'degree': degree},\n",
    "]"
   ]
  },
  {
   "cell_type": "markdown",
   "metadata": {},
   "source": [
    "Searching for the best ones"
   ]
  },
  {
   "cell_type": "code",
   "execution_count": 80,
   "metadata": {},
   "outputs": [
    {
     "name": "stdout",
     "output_type": "stream",
     "text": [
      "n_iterations: 4\n",
      "n_required_iterations: 4\n",
      "n_possible_iterations: 4\n",
      "min_resources_: 514\n",
      "max_resources_: 13904\n",
      "aggressive_elimination: False\n",
      "factor: 3\n",
      "----------\n",
      "iter: 0\n",
      "n_candidates: 45\n",
      "n_resources: 514\n",
      "Fitting 5 folds for each of 45 candidates, totalling 225 fits\n",
      "----------\n",
      "iter: 1\n",
      "n_candidates: 15\n",
      "n_resources: 1542\n",
      "Fitting 5 folds for each of 15 candidates, totalling 75 fits\n",
      "----------\n",
      "iter: 2\n",
      "n_candidates: 5\n",
      "n_resources: 4626\n",
      "Fitting 5 folds for each of 5 candidates, totalling 25 fits\n",
      "----------\n",
      "iter: 3\n",
      "n_candidates: 2\n",
      "n_resources: 13878\n",
      "Fitting 5 folds for each of 2 candidates, totalling 10 fits\n"
     ]
    }
   ],
   "source": [
    "start = time.time()\n",
    "\n",
    "model = HalvingGridSearchCV(\n",
    "    SVC(), \n",
    "    param_grid=param_grid,\n",
    "    scoring='accuracy',\n",
    "    n_jobs=20,\n",
    "    refit=True,\n",
    "    verbose=3,\n",
    ")\n",
    "model.fit(train_x, train_y)\n",
    "\n",
    "end = time.time()"
   ]
  },
  {
   "cell_type": "code",
   "execution_count": 81,
   "metadata": {},
   "outputs": [
    {
     "name": "stdout",
     "output_type": "stream",
     "text": [
      "Time Taken: 2.0 Minutes\n"
     ]
    }
   ],
   "source": [
    "time_taken = (end - start) / 60\n",
    "print(f'Time Taken: {time_taken:.1f} Minutes')"
   ]
  },
  {
   "cell_type": "markdown",
   "metadata": {},
   "source": [
    "Best Parameters"
   ]
  },
  {
   "cell_type": "code",
   "execution_count": 82,
   "metadata": {},
   "outputs": [
    {
     "name": "stdout",
     "output_type": "stream",
     "text": [
      "Best Validation Accuracy: 0.8126716680631605\n",
      "Best parameters:\n",
      "{'C': 10, 'gamma': 0.01, 'kernel': 'rbf'}\n"
     ]
    }
   ],
   "source": [
    "print(\"Best Validation Accuracy:\", model.best_score_)\n",
    "print(\"Best parameters:\")\n",
    "pprint.pprint(model.best_params_)\n",
    "\n",
    "best_model = model.best_estimator_"
   ]
  },
  {
   "cell_type": "markdown",
   "metadata": {},
   "source": [
    "# Running For Test Data"
   ]
  },
  {
   "cell_type": "code",
   "execution_count": 83,
   "metadata": {},
   "outputs": [],
   "source": [
    "preds = best_model.predict(test_x)"
   ]
  },
  {
   "cell_type": "markdown",
   "metadata": {},
   "source": [
    "Some Statistics"
   ]
  },
  {
   "cell_type": "code",
   "execution_count": 84,
   "metadata": {},
   "outputs": [
    {
     "name": "stdout",
     "output_type": "stream",
     "text": [
      "              precision    recall  f1-score   support\n",
      "\n",
      "     English       0.80      0.79      0.79      1072\n",
      "        Urdu       0.83      0.78      0.80      1091\n",
      "       Mixed       0.82      0.87      0.85      1313\n",
      "\n",
      "    accuracy                           0.82      3476\n",
      "   macro avg       0.82      0.81      0.81      3476\n",
      "weighted avg       0.82      0.82      0.82      3476\n",
      "\n"
     ]
    }
   ],
   "source": [
    "print(classification_report(test_y, preds, target_names=LABEL_NAMES))"
   ]
  },
  {
   "cell_type": "code",
   "execution_count": 85,
   "metadata": {},
   "outputs": [
    {
     "data": {
      "image/png": "[encoded data removed]",
      "text/plain": [
       "<Figure size 720x504 with 2 Axes>"
      ]
     },
     "metadata": {},
     "output_type": "display_data"
    }
   ],
   "source": [
    "cfm = confusion_matrix(test_y, preds)\n",
    "plot_confusion_matrix(cfm, LABEL_NAMES)"
   ]
  }
 ],
 "metadata": {
  "interpreter": {
   "hash": "b3ba2566441a7c06988d0923437866b63cedc61552a5af99d1f4fb67d367b25f"
  },
  "kernelspec": {
   "display_name": "Python 3.8.8 64-bit ('base': conda)",
   "language": "python",
   "name": "python3"
  },
  "language_info": {
   "codemirror_mode": {
    "name": "ipython",
    "version": 3
   },
   "file_extension": ".py",
   "mimetype": "text/x-python",
   "name": "python",
   "nbconvert_exporter": "python",
   "pygments_lexer": "ipython3",
   "version": "3.8.8"
  },
  "orig_nbformat": 4
 },
 "nbformat": 4,
 "nbformat_minor": 2
}
