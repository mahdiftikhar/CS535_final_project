{
 "cells": [
  {
   "cell_type": "code",
   "execution_count": 14,
   "metadata": {},
   "outputs": [],
   "source": [
    "import numpy as np\n",
    "from matplotlib import pyplot\n",
    "import pandas as pd\n",
    "import seaborn as sns\n",
    "from sklearn.neighbors import KNeighborsClassifier\n",
    "from sklearn.model_selection import cross_val_predict\n",
    "from sklearn.metrics import confusion_matrix, accuracy_score, classification_report\n",
    "\n",
    "%matplotlib inline\n",
    "pyplot.style.use('ggplot')"
   ]
  },
  {
   "cell_type": "markdown",
   "metadata": {},
   "source": [
    "# Constants"
   ]
  },
  {
   "cell_type": "code",
   "execution_count": 15,
   "metadata": {},
   "outputs": [],
   "source": [
    "CROSS_VALIDATION_SETS = 5\n",
    "MAX_K = 10\n",
    "RANDOM_STATE = 69\n",
    "LABEL_NAMES = ['English', 'Urdu', 'Mixed']"
   ]
  },
  {
   "cell_type": "markdown",
   "metadata": {},
   "source": [
    "# Importing and Splitting Dataset"
   ]
  },
  {
   "cell_type": "code",
   "execution_count": 16,
   "metadata": {},
   "outputs": [],
   "source": [
    "data = pd.read_csv('dataset.csv')\n",
    "\n",
    "train = data.sample(frac = 0.8, random_state = RANDOM_STATE)\n",
    "test = data.drop(train.index)\n",
    "\n",
    "train = train.to_numpy()\n",
    "test = test.to_numpy()\n",
    "\n",
    "train_x = train[:, 1:-1]\n",
    "train_y = train[:, -1]\n",
    "\n",
    "test_x = test[:, 1:-1]\n",
    "test_y = test[:, -1]"
   ]
  },
  {
   "cell_type": "code",
   "execution_count": 17,
   "metadata": {},
   "outputs": [
    {
     "data": {
      "text/html": [
       "<div>\n",
       "<style scoped>\n",
       "    .dataframe tbody tr th:only-of-type {\n",
       "        vertical-align: middle;\n",
       "    }\n",
       "\n",
       "    .dataframe tbody tr th {\n",
       "        vertical-align: top;\n",
       "    }\n",
       "\n",
       "    .dataframe thead th {\n",
       "        text-align: right;\n",
       "    }\n",
       "</style>\n",
       "<table border=\"1\" class=\"dataframe\">\n",
       "  <thead>\n",
       "    <tr style=\"text-align: right;\">\n",
       "      <th></th>\n",
       "      <th>Unnamed: 0</th>\n",
       "      <th>0</th>\n",
       "      <th>1</th>\n",
       "      <th>2</th>\n",
       "      <th>3</th>\n",
       "      <th>4</th>\n",
       "      <th>5</th>\n",
       "      <th>6</th>\n",
       "      <th>7</th>\n",
       "      <th>8</th>\n",
       "      <th>9</th>\n",
       "      <th>10</th>\n",
       "      <th>11</th>\n",
       "      <th>12</th>\n",
       "      <th>LABEL</th>\n",
       "    </tr>\n",
       "  </thead>\n",
       "  <tbody>\n",
       "    <tr>\n",
       "      <th>0</th>\n",
       "      <td>0</td>\n",
       "      <td>14.443077</td>\n",
       "      <td>-8.036094</td>\n",
       "      <td>-4.077253</td>\n",
       "      <td>-0.274023</td>\n",
       "      <td>-9.003208</td>\n",
       "      <td>-17.048237</td>\n",
       "      <td>-21.399697</td>\n",
       "      <td>-16.263466</td>\n",
       "      <td>3.396780</td>\n",
       "      <td>-12.284809</td>\n",
       "      <td>0.908476</td>\n",
       "      <td>-10.026655</td>\n",
       "      <td>-4.254287</td>\n",
       "      <td>0</td>\n",
       "    </tr>\n",
       "    <tr>\n",
       "      <th>1</th>\n",
       "      <td>1</td>\n",
       "      <td>10.219182</td>\n",
       "      <td>1.742702</td>\n",
       "      <td>1.002258</td>\n",
       "      <td>-2.806073</td>\n",
       "      <td>-14.951893</td>\n",
       "      <td>-21.500796</td>\n",
       "      <td>-13.495337</td>\n",
       "      <td>-9.305933</td>\n",
       "      <td>-7.441661</td>\n",
       "      <td>-1.825364</td>\n",
       "      <td>-8.279968</td>\n",
       "      <td>0.422083</td>\n",
       "      <td>-3.959009</td>\n",
       "      <td>0</td>\n",
       "    </tr>\n",
       "    <tr>\n",
       "      <th>2</th>\n",
       "      <td>2</td>\n",
       "      <td>13.876193</td>\n",
       "      <td>1.004525</td>\n",
       "      <td>-10.143044</td>\n",
       "      <td>4.769317</td>\n",
       "      <td>-25.268881</td>\n",
       "      <td>-12.703184</td>\n",
       "      <td>-17.730170</td>\n",
       "      <td>-6.543746</td>\n",
       "      <td>-15.888943</td>\n",
       "      <td>-2.577060</td>\n",
       "      <td>-9.861565</td>\n",
       "      <td>1.551331</td>\n",
       "      <td>-3.312003</td>\n",
       "      <td>0</td>\n",
       "    </tr>\n",
       "    <tr>\n",
       "      <th>3</th>\n",
       "      <td>3</td>\n",
       "      <td>12.510054</td>\n",
       "      <td>-3.575093</td>\n",
       "      <td>-4.913943</td>\n",
       "      <td>-6.122454</td>\n",
       "      <td>-3.552648</td>\n",
       "      <td>-9.513949</td>\n",
       "      <td>-10.869105</td>\n",
       "      <td>-8.880711</td>\n",
       "      <td>1.368740</td>\n",
       "      <td>-5.230862</td>\n",
       "      <td>-0.560520</td>\n",
       "      <td>-4.260071</td>\n",
       "      <td>-8.647045</td>\n",
       "      <td>0</td>\n",
       "    </tr>\n",
       "    <tr>\n",
       "      <th>4</th>\n",
       "      <td>4</td>\n",
       "      <td>16.165702</td>\n",
       "      <td>7.492517</td>\n",
       "      <td>-18.944081</td>\n",
       "      <td>-11.769776</td>\n",
       "      <td>0.360446</td>\n",
       "      <td>-10.676715</td>\n",
       "      <td>-10.353008</td>\n",
       "      <td>7.848967</td>\n",
       "      <td>0.781196</td>\n",
       "      <td>-0.323822</td>\n",
       "      <td>-6.596552</td>\n",
       "      <td>-6.907072</td>\n",
       "      <td>-4.249575</td>\n",
       "      <td>0</td>\n",
       "    </tr>\n",
       "    <tr>\n",
       "      <th>...</th>\n",
       "      <td>...</td>\n",
       "      <td>...</td>\n",
       "      <td>...</td>\n",
       "      <td>...</td>\n",
       "      <td>...</td>\n",
       "      <td>...</td>\n",
       "      <td>...</td>\n",
       "      <td>...</td>\n",
       "      <td>...</td>\n",
       "      <td>...</td>\n",
       "      <td>...</td>\n",
       "      <td>...</td>\n",
       "      <td>...</td>\n",
       "      <td>...</td>\n",
       "      <td>...</td>\n",
       "    </tr>\n",
       "    <tr>\n",
       "      <th>17375</th>\n",
       "      <td>17375</td>\n",
       "      <td>12.577980</td>\n",
       "      <td>0.449793</td>\n",
       "      <td>8.464243</td>\n",
       "      <td>13.715499</td>\n",
       "      <td>-1.113134</td>\n",
       "      <td>2.922420</td>\n",
       "      <td>-6.761397</td>\n",
       "      <td>2.240919</td>\n",
       "      <td>4.728756</td>\n",
       "      <td>-3.520493</td>\n",
       "      <td>6.343505</td>\n",
       "      <td>1.306161</td>\n",
       "      <td>-3.577430</td>\n",
       "      <td>1</td>\n",
       "    </tr>\n",
       "    <tr>\n",
       "      <th>17376</th>\n",
       "      <td>17376</td>\n",
       "      <td>10.832928</td>\n",
       "      <td>5.712939</td>\n",
       "      <td>6.460498</td>\n",
       "      <td>0.479978</td>\n",
       "      <td>-9.827152</td>\n",
       "      <td>-8.491606</td>\n",
       "      <td>-16.057971</td>\n",
       "      <td>-7.821987</td>\n",
       "      <td>-7.278880</td>\n",
       "      <td>-8.225414</td>\n",
       "      <td>-1.474205</td>\n",
       "      <td>-10.781243</td>\n",
       "      <td>-8.982661</td>\n",
       "      <td>1</td>\n",
       "    </tr>\n",
       "    <tr>\n",
       "      <th>17377</th>\n",
       "      <td>17377</td>\n",
       "      <td>15.653813</td>\n",
       "      <td>-6.198936</td>\n",
       "      <td>-0.756519</td>\n",
       "      <td>-0.182128</td>\n",
       "      <td>-5.058881</td>\n",
       "      <td>-12.113604</td>\n",
       "      <td>-15.959658</td>\n",
       "      <td>-1.984598</td>\n",
       "      <td>-3.341601</td>\n",
       "      <td>-5.365412</td>\n",
       "      <td>0.485510</td>\n",
       "      <td>-4.278507</td>\n",
       "      <td>-10.961661</td>\n",
       "      <td>1</td>\n",
       "    </tr>\n",
       "    <tr>\n",
       "      <th>17378</th>\n",
       "      <td>17378</td>\n",
       "      <td>14.656198</td>\n",
       "      <td>2.442599</td>\n",
       "      <td>-1.116128</td>\n",
       "      <td>-3.430590</td>\n",
       "      <td>-9.892589</td>\n",
       "      <td>-16.597521</td>\n",
       "      <td>-17.447496</td>\n",
       "      <td>-1.346676</td>\n",
       "      <td>-11.960978</td>\n",
       "      <td>-9.395277</td>\n",
       "      <td>-5.763173</td>\n",
       "      <td>-7.353033</td>\n",
       "      <td>-8.212849</td>\n",
       "      <td>1</td>\n",
       "    </tr>\n",
       "    <tr>\n",
       "      <th>17379</th>\n",
       "      <td>17379</td>\n",
       "      <td>10.457680</td>\n",
       "      <td>0.415493</td>\n",
       "      <td>-3.733206</td>\n",
       "      <td>5.588005</td>\n",
       "      <td>3.902790</td>\n",
       "      <td>-2.029628</td>\n",
       "      <td>-11.010215</td>\n",
       "      <td>-17.936656</td>\n",
       "      <td>-7.469568</td>\n",
       "      <td>-7.055387</td>\n",
       "      <td>-4.272895</td>\n",
       "      <td>-6.074557</td>\n",
       "      <td>-4.459090</td>\n",
       "      <td>1</td>\n",
       "    </tr>\n",
       "  </tbody>\n",
       "</table>\n",
       "<p>17380 rows × 15 columns</p>\n",
       "</div>"
      ],
      "text/plain": [
       "       Unnamed: 0          0         1          2          3          4  \\\n",
       "0               0  14.443077 -8.036094  -4.077253  -0.274023  -9.003208   \n",
       "1               1  10.219182  1.742702   1.002258  -2.806073 -14.951893   \n",
       "2               2  13.876193  1.004525 -10.143044   4.769317 -25.268881   \n",
       "3               3  12.510054 -3.575093  -4.913943  -6.122454  -3.552648   \n",
       "4               4  16.165702  7.492517 -18.944081 -11.769776   0.360446   \n",
       "...           ...        ...       ...        ...        ...        ...   \n",
       "17375       17375  12.577980  0.449793   8.464243  13.715499  -1.113134   \n",
       "17376       17376  10.832928  5.712939   6.460498   0.479978  -9.827152   \n",
       "17377       17377  15.653813 -6.198936  -0.756519  -0.182128  -5.058881   \n",
       "17378       17378  14.656198  2.442599  -1.116128  -3.430590  -9.892589   \n",
       "17379       17379  10.457680  0.415493  -3.733206   5.588005   3.902790   \n",
       "\n",
       "               5          6          7          8          9        10  \\\n",
       "0     -17.048237 -21.399697 -16.263466   3.396780 -12.284809  0.908476   \n",
       "1     -21.500796 -13.495337  -9.305933  -7.441661  -1.825364 -8.279968   \n",
       "2     -12.703184 -17.730170  -6.543746 -15.888943  -2.577060 -9.861565   \n",
       "3      -9.513949 -10.869105  -8.880711   1.368740  -5.230862 -0.560520   \n",
       "4     -10.676715 -10.353008   7.848967   0.781196  -0.323822 -6.596552   \n",
       "...          ...        ...        ...        ...        ...       ...   \n",
       "17375   2.922420  -6.761397   2.240919   4.728756  -3.520493  6.343505   \n",
       "17376  -8.491606 -16.057971  -7.821987  -7.278880  -8.225414 -1.474205   \n",
       "17377 -12.113604 -15.959658  -1.984598  -3.341601  -5.365412  0.485510   \n",
       "17378 -16.597521 -17.447496  -1.346676 -11.960978  -9.395277 -5.763173   \n",
       "17379  -2.029628 -11.010215 -17.936656  -7.469568  -7.055387 -4.272895   \n",
       "\n",
       "              11         12  LABEL  \n",
       "0     -10.026655  -4.254287      0  \n",
       "1       0.422083  -3.959009      0  \n",
       "2       1.551331  -3.312003      0  \n",
       "3      -4.260071  -8.647045      0  \n",
       "4      -6.907072  -4.249575      0  \n",
       "...          ...        ...    ...  \n",
       "17375   1.306161  -3.577430      1  \n",
       "17376 -10.781243  -8.982661      1  \n",
       "17377  -4.278507 -10.961661      1  \n",
       "17378  -7.353033  -8.212849      1  \n",
       "17379  -6.074557  -4.459090      1  \n",
       "\n",
       "[17380 rows x 15 columns]"
      ]
     },
     "execution_count": 17,
     "metadata": {},
     "output_type": "execute_result"
    }
   ],
   "source": [
    "data"
   ]
  },
  {
   "cell_type": "code",
   "execution_count": 18,
   "metadata": {},
   "outputs": [
    {
     "name": "stdout",
     "output_type": "stream",
     "text": [
      "train_x shape: (13904, 13)\n",
      "train_y shape: (13904,)\n"
     ]
    }
   ],
   "source": [
    "print(\"train_x shape:\", train_x.shape)\n",
    "print(\"train_y shape:\", train_y.shape)"
   ]
  },
  {
   "cell_type": "code",
   "execution_count": 19,
   "metadata": {},
   "outputs": [
    {
     "name": "stdout",
     "output_type": "stream",
     "text": [
      "test_x shape: (3476, 13)\n",
      "test_y shape: (3476,)\n"
     ]
    }
   ],
   "source": [
    "print(\"test_x shape:\", test_x.shape)\n",
    "print(\"test_y shape:\", test_y.shape)"
   ]
  },
  {
   "cell_type": "markdown",
   "metadata": {},
   "source": [
    "# Cross Validation"
   ]
  },
  {
   "cell_type": "code",
   "execution_count": 20,
   "metadata": {},
   "outputs": [
    {
     "name": "stdout",
     "output_type": "stream",
     "text": [
      "1th iteration complete\n",
      "2th iteration complete\n",
      "3th iteration complete\n",
      "4th iteration complete\n",
      "5th iteration complete\n",
      "6th iteration complete\n",
      "7th iteration complete\n",
      "8th iteration complete\n",
      "9th iteration complete\n",
      "10th iteration complete\n"
     ]
    }
   ],
   "source": [
    "acc_list = list()\n",
    "f1_list = list()\n",
    "\n",
    "def knn_cross_validation(k, train_x, train_y, cv_sets):\n",
    "    knn = KNeighborsClassifier(n_neighbors=k, p=2)\n",
    "    preds = cross_val_predict(knn, train_x, train_y, cv=cv_sets)\n",
    "\n",
    "    acc = accuracy_score(train_y, preds) * 100\n",
    "    f1 = classification_report(train_y, preds, output_dict=True)[\"macro avg\"][\"f1-score\"]\n",
    "\n",
    "    return acc, f1\n",
    "\n",
    "\n",
    "for i in range(1, MAX_K + 1):\n",
    "    acc, f1 = knn_cross_validation(i, train_x, train_y, CROSS_VALIDATION_SETS)\n",
    "\n",
    "    acc_list.append(acc)\n",
    "    f1_list.append(f1)\n",
    "\n",
    "    print(f\"{i}th iteration complete\")"
   ]
  },
  {
   "cell_type": "code",
   "execution_count": 21,
   "metadata": {},
   "outputs": [],
   "source": [
    "def plot_confusion_matrix(conf_mat, labels):\n",
    "    classes = list(labels)\n",
    "    df_cm = pd.DataFrame(conf_mat,classes,classes)\n",
    "    pyplot.figure(figsize=(10,7))\n",
    "    sns.set(font_scale=1.4)\n",
    "    sns.heatmap(df_cm, annot=True,annot_kws={\"size\": 16}, fmt='g')\n",
    "    pyplot.show()\n",
    "\n",
    "def plot(x, y, xlabel, ylabel, title):\n",
    "    pyplot.plot(x,y)\n",
    "    pyplot.xlabel(xlabel)\n",
    "    pyplot.ylabel(ylabel)\n",
    "    pyplot.title(title)\n",
    "    pyplot.xticks(x)\n",
    "    pyplot.show()\n",
    "\n",
    "x = [i for i in range(1, MAX_K + 1)]"
   ]
  },
  {
   "cell_type": "markdown",
   "metadata": {},
   "source": [
    "# Cross Validation Plots"
   ]
  },
  {
   "cell_type": "code",
   "execution_count": 22,
   "metadata": {},
   "outputs": [
    {
     "data": {
      "image/png": "[encoded data removed]",
      "text/plain": [
       "<Figure size 432x288 with 1 Axes>"
      ]
     },
     "metadata": {},
     "output_type": "display_data"
    }
   ],
   "source": [
    "plot(x, acc_list, 'k', 'acc', 'k vs acc')"
   ]
  },
  {
   "cell_type": "code",
   "execution_count": 23,
   "metadata": {},
   "outputs": [
    {
     "data": {
      "image/png": "[encoded data removed]",
      "text/plain": [
       "<Figure size 432x288 with 1 Axes>"
      ]
     },
     "metadata": {},
     "output_type": "display_data"
    }
   ],
   "source": [
    "plot(x, f1_list, 'k', 'f1', 'k vs f1')"
   ]
  },
  {
   "cell_type": "markdown",
   "metadata": {},
   "source": [
    "# Best value ---> k = 3"
   ]
  },
  {
   "cell_type": "markdown",
   "metadata": {},
   "source": [
    "# Running For Test Data"
   ]
  },
  {
   "cell_type": "code",
   "execution_count": 24,
   "metadata": {},
   "outputs": [],
   "source": [
    "def test_knn(k, train_x, train_y, test_x, test_y):\n",
    "    knn = KNeighborsClassifier(n_neighbors=k, p=2)\n",
    "    knn.fit(train_x, train_y)\n",
    "    preds = knn.predict(test_x)\n",
    "\n",
    "    cfm = confusion_matrix(test_y, preds)\n",
    "    stats = classification_report(test_y, preds, target_names=LABEL_NAMES)\n",
    "\n",
    "    return stats, cfm"
   ]
  },
  {
   "cell_type": "markdown",
   "metadata": {},
   "source": [
    "Some Statistics"
   ]
  },
  {
   "cell_type": "code",
   "execution_count": 25,
   "metadata": {},
   "outputs": [
    {
     "name": "stdout",
     "output_type": "stream",
     "text": [
      "              precision    recall  f1-score   support\n",
      "\n",
      "     English       0.74      0.80      0.76      1072\n",
      "        Urdu       0.82      0.73      0.77      1091\n",
      "       Mixed       0.81      0.83      0.82      1313\n",
      "\n",
      "    accuracy                           0.79      3476\n",
      "   macro avg       0.79      0.79      0.79      3476\n",
      "weighted avg       0.79      0.79      0.79      3476\n",
      "\n"
     ]
    }
   ],
   "source": [
    "stats, cfm = test_knn(3, train_x, train_y, test_x, test_y)\n",
    "\n",
    "print(stats)"
   ]
  },
  {
   "cell_type": "markdown",
   "metadata": {},
   "source": [
    "Confusion Matrix"
   ]
  },
  {
   "cell_type": "code",
   "execution_count": 26,
   "metadata": {},
   "outputs": [
    {
     "data": {
      "image/png": "[encoded data removed]",
      "text/plain": [
       "<Figure size 720x504 with 2 Axes>"
      ]
     },
     "metadata": {},
     "output_type": "display_data"
    }
   ],
   "source": [
    "plot_confusion_matrix(cfm, LABEL_NAMES)"
   ]
  }
 ],
 "metadata": {
  "interpreter": {
   "hash": "b3ba2566441a7c06988d0923437866b63cedc61552a5af99d1f4fb67d367b25f"
  },
  "kernelspec": {
   "display_name": "Python 3.8.8 64-bit ('base': conda)",
   "language": "python",
   "name": "python3"
  },
  "language_info": {
   "codemirror_mode": {
    "name": "ipython",
    "version": 3
   },
   "file_extension": ".py",
   "mimetype": "text/x-python",
   "name": "python",
   "nbconvert_exporter": "python",
   "pygments_lexer": "ipython3",
   "version": "3.8.8"
  },
  "orig_nbformat": 4
 },
 "nbformat": 4,
 "nbformat_minor": 2
}
